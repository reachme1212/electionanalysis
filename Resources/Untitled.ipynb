{
 "cells": [
  {
   "cell_type": "code",
   "execution_count": null,
   "id": "bdd9703a",
   "metadata": {},
   "outputs": [],
   "source": [
    "import csv \n",
    "import os\n",
    "file_to_load =os.path.join(\"c:/Users/Sangeetha/Documents/GitHub/electionanalysis/Resources/election_results.csv\")\n",
    "file_to_save =os.path.join(\"c:/Users/Sangeetha/Documents/GitHub/electionanalysis/Resources/election_analysis.txt\n",
    "total_votes=0\n",
    "candidate_options=[]\n",
    "county_options=[]\n",
    "candidate_votes={}\n",
    "county_names_votes={}\n",
    "win_candidate=\"\"\n",
    "win_county=\"\"\n",
    "win_count=0\n",
    "win_county_count=0\n",
    "win_percentage=0\n",
    "win_county_percentage=0                          "
   ]
  }
 ],
 "metadata": {
  "kernelspec": {
   "display_name": "PythonData",
   "language": "python",
   "name": "pythondata"
  },
  "language_info": {
   "codemirror_mode": {
    "name": "ipython",
    "version": 3
   },
   "file_extension": ".py",
   "mimetype": "text/x-python",
   "name": "python",
   "nbconvert_exporter": "python",
   "pygments_lexer": "ipython3",
   "version": "3.8.8"
  }
 },
 "nbformat": 4,
 "nbformat_minor": 5
}
